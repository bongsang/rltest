{
 "cells": [
  {
   "cell_type": "markdown",
   "id": "2532db00",
   "metadata": {
    "id": "c3e89aca-6c52-4b20-b1a3-9279ef0fd99b"
   },
   "source": [
    "# Deep Q-Network (DQN) on LunarLander-v2\n",
    "\n",
    "> In this post, We will take a hands-on-lab of Simple Deep Q-Network (DQN) on openAI LunarLander-v2 environment. "
   ]
  },
  {
   "cell_type": "markdown",
   "id": "a90b5d5d",
   "metadata": {
    "id": "fd834f1b-51c4-4910-a4d6-3b212e1a2a5a"
   },
   "source": [
    "## Deep Q-Network (DQN)\n",
    "---\n",
    "In this notebook, you will implement a DQN agent with OpenAI Gym's LunarLander-v2 environment.\n",
    "\n",
    "### Import the Necessary Packages"
   ]
  },
  {
   "cell_type": "code",
   "execution_count": 1,
   "id": "e9dcd84a",
   "metadata": {
    "colab": {
     "base_uri": "https://localhost:8080/"
    },
    "id": "3qPGqNlJi7jb",
    "outputId": "f9690747-a1e2-4b6f-996e-e64a1f1a148d"
   },
   "outputs": [],
   "source": [
    "# !pip install gym[Box_2D] Box2D box2d-py torch"
   ]
  },
  {
   "cell_type": "code",
   "execution_count": 2,
   "id": "5c53353c",
   "metadata": {
    "id": "22518486-3c2f-47fe-92b3-1502875eacfe"
   },
   "outputs": [],
   "source": [
    "import gym\n",
    "from gym.wrappers import Monitor\n",
    "import random\n",
    "import torch\n",
    "import torch.nn as nn\n",
    "import torch.nn.functional as F\n",
    "import torch.optim as optim\n",
    "import matplotlib.pyplot as plt\n",
    "import base64, io\n",
    "\n",
    "import numpy as np\n",
    "from collections import deque, namedtuple\n",
    "\n",
    "# For visualization\n",
    "from gym.wrappers.monitoring import video_recorder\n",
    "from IPython.display import HTML\n",
    "from IPython import display \n",
    "import glob"
   ]
  },
  {
   "cell_type": "markdown",
   "id": "da041e9a",
   "metadata": {
    "id": "f75f934c-6921-43aa-8389-6df4b993eca4"
   },
   "source": [
    "### Instantiate the Environment and Agent\n",
    "\n",
    "Initialize the environment."
   ]
  },
  {
   "cell_type": "code",
   "execution_count": 3,
   "id": "f11b8f5a",
   "metadata": {
    "colab": {
     "base_uri": "https://localhost:8080/"
    },
    "id": "594828b6-da33-481d-ab42-041e8c17ffea",
    "outputId": "8208746e-ae7a-4382-b0d4-7cd9a3bd675e"
   },
   "outputs": [
    {
     "name": "stdout",
     "output_type": "stream",
     "text": [
      "State shape:  (8,)\n",
      "Number of actions:  4\n"
     ]
    }
   ],
   "source": [
    "env = gym.make('LunarLander-v2')\n",
    "env.seed(0)\n",
    "print('State shape: ', env.observation_space.shape)\n",
    "print('Number of actions: ', env.action_space.n)"
   ]
  },
  {
   "cell_type": "markdown",
   "id": "3ad25876",
   "metadata": {
    "id": "03735bdc-c07e-4c87-b208-cce894bb8e43"
   },
   "source": [
    "### Define Neural Network Architecture. (3점)\n",
    "\n",
    "Since `LunarLander-v2` environment is sort of simple envs, we don't need complicated architecture. We just need non-linear function approximator that maps from state to action."
   ]
  },
  {
   "cell_type": "code",
   "execution_count": 4,
   "id": "1a85e8e5",
   "metadata": {
    "id": "ae834607-433e-4ed5-8b23-8de7b53230a8"
   },
   "outputs": [],
   "source": [
    "class QNetwork(nn.Module):\n",
    "    \"\"\"Actor (Policy) Model.\"\"\"\n",
    "\n",
    "    def __init__(self, state_size, action_size, seed):\n",
    "        \"\"\"Initialize parameters and build model.\n",
    "        Params\n",
    "        ======\n",
    "            state_size (int): Dimension of each state\n",
    "            action_size (int): Dimension of each action\n",
    "            seed (int): Random seed\n",
    "        \"\"\"\n",
    "        super(QNetwork, self).__init__()\n",
    "        self.seed = torch.manual_seed(seed)\n",
    "        ############################### TODO: YOUR CODE BELOW ##############################\n",
    "        ### Q Network에 사용될 layers을 정의해주세요                                          ###\n",
    "        ####################################################################################\n",
    "        self.layer1 = nn.Linear(state_size, 128)\n",
    "        self.layer2 = nn.Linear(128, 64)\n",
    "        self.layer3 = nn.Linear(64, 32)\n",
    "        self.layer4 = nn.Linear(32, action_size)\n",
    "        ################################# END OF YOUR CODE #################################\n",
    "        \n",
    "    def forward(self, state):\n",
    "        \"\"\"Build a network that maps state -> action values.\"\"\"\n",
    "        \n",
    "        ############################### TODO: YOUR CODE BELOW ##############################\n",
    "        ###  Forward Pass를 구현해주세요                                                    ###\n",
    "        ####################################################################################        \n",
    "        x = F.relu(self.layer1(state))        \n",
    "        x = F.relu(self.layer2(x))\n",
    "        x = F.relu(self.layer3(x))\n",
    "        x = self.layer4(x)\n",
    "        ################################# END OF YOUR CODE #################################\n",
    "        \n",
    "        return x"
   ]
  },
  {
   "cell_type": "markdown",
   "id": "d6e8108e",
   "metadata": {
    "id": "b0873298-cab0-4dcb-9c84-4782dc914dd7"
   },
   "source": [
    "### Define some hyperparameter (1점)\n",
    "\n",
    "> 참고로 초매개변수 선택에는 답이 정해져있지 않습니다. 여러 케이스에 대해서 테스트해보고 최적의 조합을 찾아보기 바랍니다."
   ]
  },
  {
   "cell_type": "code",
   "execution_count": 5,
   "id": "aa5b3f99",
   "metadata": {
    "id": "7010c525-29d8-445c-8769-6cfb7d00948b"
   },
   "outputs": [],
   "source": [
    "############################### TODO: YOUR CODE BELOW ##############################\n",
    "### 초매개변수를 정의해주세요                                                          ###\n",
    "####################################################################################\n",
    "BUFFER_SIZE = 100000  # replay buffer size\n",
    "BATCH_SIZE = 128         # minibatch size\n",
    "GAMMA = 0.99            # discount factor\n",
    "TAU = 0.001              # for soft update of target parameters\n",
    "LR = 0.0001               # learning rate \n",
    "UPDATE_EVERY = 10        # how often to update the network\n",
    "################################# END OF YOUR CODE #################################"
   ]
  },
  {
   "cell_type": "code",
   "execution_count": 6,
   "id": "24a52d23",
   "metadata": {
    "id": "334bb7d8-7d62-4cfb-96f7-f8809ba8e089"
   },
   "outputs": [],
   "source": [
    "device = torch.device(\"cuda:0\" if torch.cuda.is_available() else \"cpu\")"
   ]
  },
  {
   "cell_type": "markdown",
   "id": "46b012d7",
   "metadata": {},
   "source": [
    "### Define Replay Buffer (4점)"
   ]
  },
  {
   "cell_type": "code",
   "execution_count": 7,
   "id": "3adae118",
   "metadata": {},
   "outputs": [],
   "source": [
    "class ReplayBuffer:\n",
    "    \"\"\"Fixed-size buffer to store experience tuples.\"\"\"\n",
    "\n",
    "    def __init__(self, action_size, buffer_size, batch_size, seed):\n",
    "        \"\"\"Initialize a ReplayBuffer object.\n",
    "\n",
    "        Params\n",
    "        ======\n",
    "            action_size (int): dimension of each action\n",
    "            buffer_size (int): maximum size of buffer\n",
    "            batch_size (int): size of each training batch\n",
    "            seed (int): random seed\n",
    "        \"\"\"\n",
    "        self.action_size = action_size\n",
    "        self.memory = deque(maxlen=buffer_size)  \n",
    "        self.batch_size = batch_size\n",
    "        self.experience = namedtuple(\"Experience\", field_names=[\"state\", \"action\", \"reward\", \"next_state\", \"done\"])\n",
    "        self.seed = random.seed(seed)\n",
    "    \n",
    "    def add(self, state, action, reward, next_state, done):\n",
    "        \"\"\"Add a new experience to memory.\"\"\"\n",
    "        e = self.experience(state, action, reward, next_state, done)\n",
    "        self.memory.append(e)\n",
    "    \n",
    "    def sample(self):\n",
    "        \"\"\"Randomly sample a batch of experiences from memory.\"\"\"\n",
    "        experiences = random.sample(self.memory, k=self.batch_size)\n",
    "\n",
    "        ############################### TODO: YOUR CODE BELOW ##############################\n",
    "        ### Hint1: 실제 torch로 데이터를 처리하기 위해서는 numpy array를 torch tensor로 변환해줘야 합니다. torch.from_numpy()를 참고하기 바랍니다.\n",
    "        ### Hint2: 경험에서 추출된 정보를 한번에 사용하기 위해서는 주어진 데이터를 쌓아야 합니다. np.vstack()를 참고하기 바랍니다.\n",
    "        ### Hint3: 각 정보는 형변환이 되어야 합니다. \n",
    "        ####################################################################################\n",
    "        \n",
    "        # Convert to torch tensors\n",
    "        states = torch.from_numpy(np.vstack([e.state for e in experiences if e is not None])).float().to(device)\n",
    "        actions = torch.from_numpy(np.vstack([e.action for e in experiences if e is not None])).long().to(device)\n",
    "        rewards = torch.from_numpy(np.vstack([e.reward for e in experiences if e is not None])).float().to(device)\n",
    "        next_states = torch.from_numpy(np.vstack([e.next_state for e in experiences if e is not None])).float().to(device)\n",
    "        \n",
    "        # Convert done from boolean to int\n",
    "        dones = torch.from_numpy(np.vstack([e.done for e in experiences if e is not None]).astype(np.uint8)).float().to(device)        \n",
    "        \n",
    "        return (states, actions, rewards, next_states, dones)\n",
    "        ################################# END OF YOUR CODE #################################\n",
    "\n",
    "    def __len__(self):\n",
    "        \"\"\"Return the current size of internal memory.\"\"\"\n",
    "        return len(self.memory)"
   ]
  },
  {
   "cell_type": "markdown",
   "id": "f993d953",
   "metadata": {
    "id": "1d861efe-200c-4690-9698-722abbf0b77c"
   },
   "source": [
    "### Define Agent (6점)"
   ]
  },
  {
   "cell_type": "code",
   "execution_count": 8,
   "id": "8bb41f11",
   "metadata": {
    "id": "0530f456-2bfd-4061-ad62-f14846a9a284"
   },
   "outputs": [],
   "source": [
    "class Agent():\n",
    "    \"\"\"Interacts with and learns from the environment.\"\"\"\n",
    "\n",
    "    def __init__(self, state_size, action_size, seed):\n",
    "        \"\"\"Initialize an Agent object.\n",
    "        \n",
    "        Params\n",
    "        ======\n",
    "            state_size (int): dimension of each state\n",
    "            action_size (int): dimension of each action\n",
    "            seed (int): random seed\n",
    "        \"\"\"\n",
    "        self.state_size = state_size\n",
    "        self.action_size = action_size\n",
    "        self.seed = random.seed(seed)\n",
    "\n",
    "        # Q-Network\n",
    "        self.qnetwork_local = QNetwork(state_size, action_size, seed).to(device)\n",
    "        self.qnetwork_target = QNetwork(state_size, action_size, seed).to(device)\n",
    "        ############################### TODO: YOUR CODE BELOW ##############################\n",
    "        ### optimizer를 정의해주세요\n",
    "        ### Hint1: optimizer가 최적화해야 할 weight을 생각해보기 바랍니다.\n",
    "        ####################################################################################\n",
    "        self.optimizer = optim.Adam(self.qnetwork_local.parameters(), lr=LR)\n",
    "        ################################# END OF YOUR CODE #################################\n",
    "\n",
    "        # Replay memory\n",
    "        self.memory = ReplayBuffer(action_size, BUFFER_SIZE, BATCH_SIZE, seed)\n",
    "        # Initialize time step (for updating every UPDATE_EVERY steps)\n",
    "        self.t_step = 0\n",
    "    \n",
    "    def step(self, state, action, reward, next_state, done):\n",
    "        # Save experience in replay memory\n",
    "        self.memory.add(state, action, reward, next_state, done)\n",
    "        \n",
    "        # Learn every UPDATE_EVERY time steps.\n",
    "        self.t_step = (self.t_step + 1) % UPDATE_EVERY\n",
    "        if self.t_step == 0:\n",
    "            # If enough samples are available in memory, get random subset and learn\n",
    "            if len(self.memory) > BATCH_SIZE:\n",
    "                experiences = self.memory.sample()\n",
    "                self.learn(experiences, GAMMA)\n",
    "\n",
    "    def act(self, state, eps=0.):\n",
    "        \"\"\"Returns actions for given state as per current policy.\n",
    "        \n",
    "        Params\n",
    "        ======\n",
    "            state (array_like): current state\n",
    "            eps (float): epsilon, for epsilon-greedy action selection\n",
    "        \"\"\"\n",
    "        state = torch.from_numpy(state).float().unsqueeze(0).to(device)\n",
    "        \n",
    "        \n",
    "        self.qnetwork_local.eval()\n",
    "        with torch.no_grad():\n",
    "            ############################### TODO: YOUR CODE BELOW ##############################\n",
    "            ## TODO: Action을 q network로부터 뽑아내세요.\n",
    "            ### Hint: 우리가 행동을 뽑아내는 신경망은 어떤 것인지 생각해보기 바랍니다.\n",
    "            ####################################################################################\n",
    "            action_values = self.qnetwork_local(state)\n",
    "            ################################# END OF YOUR CODE #################################\n",
    "            \n",
    "        self.qnetwork_local.train()\n",
    "\n",
    "        ############################### TODO: YOUR CODE BELOW ##############################\n",
    "        ## 입실론-그리디 탐색을 구현하세요.\n",
    "        ####################################################################################\n",
    "        if random.random() > eps:\n",
    "            ## TODO: 임의의 확률이 eps보다 클때 action 선택 방법\n",
    "            return np.argmax(action_values.cpu().data.numpy())\n",
    "        else:\n",
    "            ## TODO: 임의의 확률이 eps보다 작을때 action 선택 방법\n",
    "            return random.choice(np.arange(self.action_size))\n",
    "        ################################# END OF YOUR CODE #################################\n",
    "\n",
    "    def learn(self, experiences, gamma):\n",
    "        \"\"\"Update value parameters using given batch of experience tuples.\n",
    "\n",
    "        Params\n",
    "        ======\n",
    "            experiences (Tuple[torch.Variable]): tuple of (s, a, r, s', done) tuples \n",
    "            gamma (float): discount factor\n",
    "        \"\"\"\n",
    "        # Obtain random minibatch of tuples from D\n",
    "        states, actions, rewards, next_states, dones = experiences\n",
    "\n",
    "        ## Compute and minimize the loss\n",
    "        ### Extract next maximum estimated value from target network\n",
    "        q_targets_next = self.qnetwork_target(next_states).detach().max(1)[0].unsqueeze(1)\n",
    "        \n",
    "        ############################### TODO: YOUR CODE BELOW ##############################\n",
    "        ## bellman equation을 구현해주세요\n",
    "        ####################################################################################        \n",
    "        q_targets = rewards + gamma * q_targets_next * (1 - dones)\n",
    "        ################################# END OF YOUR CODE #################################\n",
    "        \n",
    "        ### Calculate expected value from local network\n",
    "        q_expected = self.qnetwork_local(states).gather(1, actions)\n",
    "        \n",
    "        ############################### TODO: YOUR CODE BELOW ##############################\n",
    "        ## mse를 사용해서 loss를 계산하기 바랍니다.\n",
    "        ####################################################################################\n",
    "        loss = F.mse_loss(q_expected, q_targets)\n",
    "        ################################# END OF YOUR CODE #################################\n",
    "        \n",
    "        self.optimizer.zero_grad()\n",
    "        loss.backward()\n",
    "        self.optimizer.step()\n",
    "\n",
    "        # ------------------- update target network ------------------- #\n",
    "        self.soft_update(self.qnetwork_local, self.qnetwork_target, TAU)                     \n",
    "\n",
    "    def soft_update(self, local_model, target_model, tau):\n",
    "        \"\"\"Soft update model parameters.\n",
    "        θ_target = τ*θ_local + (1 - τ)*θ_target\n",
    "\n",
    "        Params\n",
    "        ======\n",
    "            local_model (PyTorch model): weights will be copied from\n",
    "            target_model (PyTorch model): weights will be copied to\n",
    "            tau (float): interpolation parameter \n",
    "        \"\"\"\n",
    "        for target_param, local_param in zip(target_model.parameters(), local_model.parameters()):\n",
    "            target_param.data.copy_(tau*local_param.data + (1.0-tau)*target_param.data)"
   ]
  },
  {
   "cell_type": "markdown",
   "id": "9580d0f3",
   "metadata": {
    "id": "6bd61b8d-b63e-444f-9cb7-6295df46995d"
   },
   "source": [
    "### Training Process (5점)"
   ]
  },
  {
   "cell_type": "code",
   "execution_count": 9,
   "id": "9c6ae9df",
   "metadata": {
    "colab": {
     "base_uri": "https://localhost:8080/"
    },
    "id": "c907ab57-ed48-4824-b27c-8c7d707d6919",
    "outputId": "b8931189-e61e-4726-a2e4-6eea70e62e9d"
   },
   "outputs": [
    {
     "name": "stdout",
     "output_type": "stream",
     "text": [
      "Episode 100\tAverage Score: -257.03\n",
      "Episode 200\tAverage Score: -256.11\n",
      "Episode 300\tAverage Score: -253.67\n",
      "Episode 400\tAverage Score: -176.81\n",
      "Episode 500\tAverage Score: -123.97\n",
      "Episode 600\tAverage Score: -55.390\n",
      "Episode 700\tAverage Score: -67.95\n",
      "Episode 800\tAverage Score: -65.90\n",
      "Episode 900\tAverage Score: -44.82\n",
      "Episode 1000\tAverage Score: -44.98\n",
      "Episode 1100\tAverage Score: -35.93\n",
      "Episode 1200\tAverage Score: -33.00\n",
      "Episode 1300\tAverage Score: -13.28\n",
      "Episode 1400\tAverage Score: 67.169\n",
      "Episode 1500\tAverage Score: 179.58\n",
      "Episode 1600\tAverage Score: 190.05\n",
      "Episode 1700\tAverage Score: 197.37\n",
      "Episode 1710\tAverage Score: 200.91\n",
      "Environment solved in 1610 episodes!\tAverage Score: 200.91\n"
     ]
    }
   ],
   "source": [
    "def dqn(n_episodes=2000, max_t=1000, eps_start=1.0, eps_end=0.01, eps_decay=0.995):\n",
    "    \"\"\"Deep Q-Learning.\n",
    "    \n",
    "    Params\n",
    "    ======\n",
    "        n_episodes (int): maximum number of training episodes\n",
    "        max_t (int): maximum number of timesteps per episode\n",
    "        eps_start (float): starting value of epsilon, for epsilon-greedy action selection\n",
    "        eps_end (float): minimum value of epsilon\n",
    "        eps_decay (float): multiplicative factor (per episode) for decreasing epsilon\n",
    "    \"\"\"\n",
    "    scores = []                        # list containing scores from each episode\n",
    "    scores_window = deque(maxlen=100)  # last 100 scores\n",
    "    eps = eps_start                    # initialize epsilon\n",
    "    for i_episode in range(1, n_episodes+1):\n",
    "        state = env.reset()\n",
    "        score = 0\n",
    "        for t in range(max_t):\n",
    "            ############################### TODO: YOUR CODE BELOW ##############################\n",
    "            ## STEP1: action을 agent로부터 뽑습니다.\n",
    "            action = agent.act(state, eps)\n",
    "            \n",
    "            ## STEP2: env.step()을 사용해서 원하는 정보를 뽑습니다.\n",
    "            next_state, reward, done, _ = env.step(action)\n",
    "            \n",
    "            ## STEP3: 뽑아낸 정보를 바탕으로 agent를 학습시킵니다.\n",
    "            agent.step(state, action, reward, next_state, done)\n",
    "            \n",
    "            ## STEP4: 다음 상태로 갱신시킵니다\n",
    "            state = next_state\n",
    "            \n",
    "            ## STEP5: score를 정의해주세요.\n",
    "            score += reward\n",
    "            \n",
    "            ################################# END OF YOUR CODE #################################\n",
    "            if done:\n",
    "                break \n",
    "        scores_window.append(score)       # save most recent score\n",
    "        scores.append(score)              # save most recent score\n",
    "        eps = max(eps_end, eps_decay*eps) # decrease epsilon\n",
    "        print('\\rEpisode {}\\tAverage Score: {:.2f}'.format(i_episode, np.mean(scores_window)), end=\"\")\n",
    "        if i_episode % 100 == 0:\n",
    "            print('\\rEpisode {}\\tAverage Score: {:.2f}'.format(i_episode, np.mean(scores_window)))\n",
    "        if np.mean(scores_window)>=200.0:\n",
    "            print('\\nEnvironment solved in {:d} episodes!\\tAverage Score: {:.2f}'.format(i_episode-100, np.mean(scores_window)))\n",
    "            torch.save(agent.qnetwork_local.state_dict(), 'checkpoint.pth')\n",
    "            break\n",
    "    return scores\n",
    "\n",
    "agent = Agent(state_size=8, action_size=4, seed=0)\n",
    "scores = dqn()"
   ]
  },
  {
   "cell_type": "markdown",
   "id": "756e7735",
   "metadata": {
    "id": "1ba6726a-977a-4345-8897-021302bfc262"
   },
   "source": [
    "### Plot the learning progress (1점)"
   ]
  },
  {
   "cell_type": "code",
   "execution_count": 10,
   "id": "0258f303",
   "metadata": {
    "id": "d2d491c9-a5dc-4c32-a95d-796f85c60c83",
    "outputId": "98bbe6c0-91b4-4b59-dceb-31a5d7936a39"
   },
   "outputs": [
    {
     "data": {
      "image/png": "[encoded data removed]",
      "text/plain": [
       "<Figure size 432x288 with 1 Axes>"
      ]
     },
     "metadata": {
      "needs_background": "light"
     },
     "output_type": "display_data"
    }
   ],
   "source": [
    "# plot the scores\n",
    "fig = plt.figure()\n",
    "ax = fig.add_subplot(111)\n",
    "plt.plot(np.arange(len(scores)), scores)\n",
    "plt.ylabel('Score')\n",
    "plt.xlabel('Episode #')\n",
    "plt.show()"
   ]
  },
  {
   "cell_type": "markdown",
   "id": "ba7e5fec",
   "metadata": {
    "id": "ebb450a9-c530-4f10-b629-53a2d69860c2"
   },
   "source": [
    "### Animate it with Video"
   ]
  },
  {
   "cell_type": "code",
   "execution_count": 11,
   "id": "5de6b9d6",
   "metadata": {
    "id": "c9806a31-f777-468e-8987-0139708ef532"
   },
   "outputs": [],
   "source": [
    "def show_video(env_name):\n",
    "    mp4list = glob.glob('video/*.mp4')\n",
    "    if len(mp4list) > 0:\n",
    "        mp4 = mp4list[0]\n",
    "        video = io.open(mp4, 'r+b').read()\n",
    "        encoded = base64.b64encode(video)\n",
    "        display.display(HTML(data='''<video alt=\"test\" autoplay \n",
    "                loop controls style=\"height: 400px;\">\n",
    "                <source src=\"data:video/mp4;base64,{0}\" type=\"video/mp4\" />\n",
    "             </video>'''.format(encoded.decode('ascii'))))\n",
    "    else:\n",
    "        print(\"Could not find video\")\n",
    "\n",
    "def wrap_env(env):\n",
    "    env = Monitor(env, './video', force=True)\n",
    "    return env\n",
    "\n",
    "def gen_wrapped_env(env_name):\n",
    "    return wrap_env(gym.make(env_name))\n",
    "        \n",
    "def show_video_of_model(agent, env_name):\n",
    "    env = gen_wrapped_env(env_name)\n",
    "    agent.qnetwork_local.load_state_dict(torch.load('checkpoint.pth'))\n",
    "    state = env.reset()\n",
    "    done = False\n",
    "    while not done:\n",
    "        frame = env.render(mode='rgb_array')\n",
    "        \n",
    "        action = agent.act(state)\n",
    "\n",
    "        state, reward, done, _ = env.step(action)        \n",
    "    env.close()"
   ]
  },
  {
   "cell_type": "code",
   "execution_count": 12,
   "id": "c08b0dd9",
   "metadata": {
    "id": "4beb1d45-ab9a-4fd7-a769-017bbf1672e1"
   },
   "outputs": [],
   "source": [
    "agent = Agent(state_size=8, action_size=4, seed=0)\n",
    "show_video_of_model(agent, 'LunarLander-v2')"
   ]
  },
  {
   "cell_type": "code",
   "execution_count": 13,
   "id": "59007b73",
   "metadata": {
    "id": "f54ee0a0-265b-4161-bbb6-25e28543aa2e",
    "outputId": "3e9dffae-bc21-4620-ad78-3606b9c9fe21"
   },
   "outputs": [
    {
     "data": {
      "text/html": [
       "<video alt=\"test\" autoplay \n",
       "                loop controls style=\"height: 400px;\">\n",
       "                <source src=\"data:video/mp4;base64,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\" type=\"video/mp4\" />\n",
       "             </video>"
      ],
      "text/plain": [
       "<IPython.core.display.HTML object>"
      ]
     },
     "metadata": {},
     "output_type": "display_data"
    }
   ],
   "source": [
    "show_video('LunarLander-v2')"
   ]
  },
  {
   "cell_type": "code",
   "execution_count": null,
   "id": "58eaba28",
   "metadata": {},
   "outputs": [],
   "source": []
  }
 ],
 "metadata": {
  "colab": {
   "name": "2021-05-07-DQN-LunarLander.ipynb",
   "provenance": []
  },
  "kernelspec": {
   "display_name": "Python 3",
   "language": "python",
   "name": "python3"
  },
  "language_info": {
   "codemirror_mode": {
    "name": "ipython",
    "version": 3
   },
   "file_extension": ".py",
   "mimetype": "text/x-python",
   "name": "python",
   "nbconvert_exporter": "python",
   "pygments_lexer": "ipython3",
   "version": "3.6.10"
  }
 },
 "nbformat": 4,
 "nbformat_minor": 5
}
